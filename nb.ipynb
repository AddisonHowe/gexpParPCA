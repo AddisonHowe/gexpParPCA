{
 "cells": [
  {
   "cell_type": "code",
   "execution_count": null,
   "id": "213cc44d",
   "metadata": {},
   "outputs": [],
   "source": [
    "import numpy as np\n",
    "import matplotlib.pyplot as plt\n",
    "import os\n",
    "import scanpy as sc\n",
    "import scipy.sparse as sp\n",
    "from anndata import AnnData\n",
    "import pandas as pd"
   ]
  },
  {
   "cell_type": "code",
   "execution_count": null,
   "id": "e62983f5",
   "metadata": {},
   "outputs": [],
   "source": [
    "np.random.seed(112358)"
   ]
  },
  {
   "cell_type": "code",
   "execution_count": null,
   "id": "1007a8b0",
   "metadata": {},
   "outputs": [],
   "source": [
    "# Helper functions\n",
    "def val2cellcolor(x):\n",
    "    return (1,1-x,1-x)"
   ]
  },
  {
   "cell_type": "code",
   "execution_count": null,
   "id": "52915d9c",
   "metadata": {},
   "outputs": [],
   "source": [
    "cmap = {\n",
    "    'Other':    [0.25, 0.25, 0.25, 1.],\n",
    "    'mt-Co2':   [0.29, 0.00, 1.00, 1.],\n",
    "    'S100a8':   [1.00, 0.47, 0.00, 1.],\n",
    "    'S100a9':   [0.25, 1.00, 0.00, 1.],\n",
    "    'Eef1a1':   [0.93, 0.00, 1.00, 1.],\n",
    "    'Elane':    [0.00, 0.99, 1.00, 1.],\n",
    "    'Fth1':     [0.00, 1.00, 0.30, 1.],\n",
    "    'Gapdh':    [1.00, 0.00, 0.70, 1.],\n",
    "    'Ngp':      [0.00, 0.20, 1.00, 1.],\n",
    "    'Rpl23':    [0.00, 0.03, 1.00, 1.],\n",
    "    'Rps23':    [1.00, 0.79, 0.00, 1.],\n",
    "    'Srgn':     [0.00, 0.67, 1.00, 1.],\n",
    "    'Tuba1b':   [0.89, 1.00, 0.00, 1.],\n",
    "    'mt-Atp6':  [1.00, 0.16, 0.00, 1.],\n",
    "    'mt-Co1':   [0.57, 1.00, 0.00, 1.],\n",
    "    'mt-Cytb':  [0.00, 1.00, 0.00, 1.],\n",
    "    'mt-Nd1':   [0.61, 0.00, 1.00, 1.],\n",
    "    'mt-Nd4':   [1.00, 0.00, 0.10, 1.],\n",
    "    'B2m':      [1.00, 0.58, 0.00, 1.],\n",
    "    'Dlk1':     [0.00, 1.00, 0.20, 1.],\n",
    "    'Ifitm1':   [0.68, 1.00, 0.00, 1.],\n",
    "    'Ptma':     [1.00, 0.00, 0.70, 1.],\n",
    "    'Rpl18a':   [1.00, 0.77, 0.00, 1.],\n",
    "    'Rpl27a':   [0.87, 1.00, 0.00, 1.],\n",
    "    'Rps17':    [0.00, 1.00, 0.80, 1.],\n",
    "    'Rps24':    [1.00, 0.01, 0.00, 1.],\n",
    "    'Rps25':    [0.00, 0.43, 1.00, 1.],\n",
    "    'Set':      [0.00, 0.24, 1.00, 1.],\n",
    "    'Ybx1':     [0.00, 0.82, 1.00, 1.],\n",
    "    'mt-Nd2':   [1.00, 0.94, 0.00, 1.]\n",
    "}\n",
    "cmap = {x: np.array(cmap[x]) for x in cmap}"
   ]
  },
  {
   "cell_type": "code",
   "execution_count": null,
   "id": "533e775b",
   "metadata": {},
   "outputs": [],
   "source": [
    "# Data location\n",
    "# datdir = \"/projects/p31512/aeh581/gexpParPCA/out2\"\n",
    "datdir = \"./data/out3\"\n",
    "\n",
    "# Directory structure\n",
    "pcadir = f\"{datdir}/pca\"\n",
    "eigdir = f\"{datdir}/pca/eig\"\n",
    "gnames_fname = f\"./data/gene_names.txt\"\n",
    "gexp_fname = f\"./data/gene_expr.npz\"\n",
    "\n",
    "imgdir = f\"{datdir}/images\"\n",
    "os.makedirs(imgdir, exist_ok=True)\n",
    "\n",
    "sc.settings.figdir = imgdir"
   ]
  },
  {
   "cell_type": "code",
   "execution_count": null,
   "id": "201d7ee7",
   "metadata": {},
   "outputs": [],
   "source": [
    "# Load data\n",
    "\n",
    "with open(f\"{pcadir}/binsize.txt\", 'r') as f:\n",
    "    bin_size = int(f.read())\n",
    "    \n",
    "with open(f\"{pcadir}/nboot.txt\", 'r') as f:\n",
    "    nboot = int(f.read())\n",
    "    \n",
    "with open(f\"{pcadir}/nsamp.txt\", 'r') as f:\n",
    "    nsamp = int(f.read())\n",
    "\n",
    "bin_psts = np.load(f\"{pcadir}/bin_psts.npy\")\n",
    "gnames = np.genfromtxt(gnames_fname, dtype=str)\n",
    "\n",
    "GEM_lil = sp.load_npz(gexp_fname).tolil()"
   ]
  },
  {
   "cell_type": "code",
   "execution_count": null,
   "id": "8dd773e6",
   "metadata": {},
   "outputs": [],
   "source": [
    "# SCANPY Analysis\n",
    "adata = AnnData(GEM_lil, dtype=GEM_lil.dtype)\n",
    "adata.var_names = gnames"
   ]
  },
  {
   "cell_type": "code",
   "execution_count": null,
   "id": "ca0c0049",
   "metadata": {},
   "outputs": [],
   "source": [
    "sc.pp.pca(adata)"
   ]
  },
  {
   "cell_type": "code",
   "execution_count": null,
   "id": "8c5b8839",
   "metadata": {},
   "outputs": [],
   "source": [
    "sc.pl.pca_loadings(adata, components = '1,2,3', save=\"_scanpy.png\")"
   ]
  },
  {
   "cell_type": "code",
   "execution_count": null,
   "id": "9dcc3a48",
   "metadata": {},
   "outputs": [],
   "source": [
    "sc.pl.pca_overview(adata, save=\"_scanpy.png\")"
   ]
  },
  {
   "cell_type": "code",
   "execution_count": null,
   "id": "59ceb318",
   "metadata": {},
   "outputs": [],
   "source": [
    "sc.pl.pca_variance_ratio(adata, save=\"_scanpy.png\")"
   ]
  },
  {
   "cell_type": "code",
   "execution_count": null,
   "id": "c4fbc448",
   "metadata": {},
   "outputs": [],
   "source": [
    "# Load data\n",
    "evals_data = np.load(f\"{eigdir}/dat_eval.npy\")\n",
    "evecs_data = np.load(f\"{eigdir}/dat_evec.npy\")\n",
    "\n",
    "nbins, npca = evals_data.shape\n",
    "ngenes = evecs_data.shape[2]\n",
    "\n",
    "print(f\"nbins: {nbins}\")\n",
    "print(f\"npca: {npca}\")\n",
    "print(f\"ngenes: {ngenes}\")\n",
    "print(f\"nboot: {nboot}\")\n",
    "print(f\"nsamp: {nsamp}\")"
   ]
  },
  {
   "cell_type": "code",
   "execution_count": null,
   "id": "daf961d2",
   "metadata": {},
   "outputs": [],
   "source": [
    "# Load bootstrap and nulls\n",
    "evals_boot = np.zeros([nbins, nboot, npca])\n",
    "evals_null = np.zeros([nbins, nboot, npca])\n",
    "for i in range(nbins):\n",
    "    evals_boot[i] = np.load(f\"{eigdir}/boot_eval_t{i}.npy\")\n",
    "    evals_null[i] = np.load(f\"{eigdir}/shuf_eval_t{i}.npy\")\n",
    "    "
   ]
  },
  {
   "cell_type": "code",
   "execution_count": null,
   "id": "ae3466ad",
   "metadata": {},
   "outputs": [],
   "source": [
    "expvar_data = evals_data / np.sum(evals_data, axis=1)[:,None]\n",
    "expvar_boot = evals_boot / np.sum(evals_boot, axis=2)[:,:,None]\n",
    "expvar_null = evals_null / np.sum(evals_null, axis=2)[:,:,None]"
   ]
  },
  {
   "cell_type": "code",
   "execution_count": null,
   "id": "2cc7c63c",
   "metadata": {},
   "outputs": [],
   "source": [
    "k = npca\n",
    "fig, axes = plt.subplots(k, 2, figsize=(18,12))\n",
    "\n",
    "for i in range(k):\n",
    "    ax = axes[i][0]\n",
    "    plotter = ax.semilogy\n",
    "    plotter(np.percentile(evals_boot[:,:,i], 97.5, axis=1), 'b', alpha=0.25, marker='_', label='boot 95 CI');\n",
    "    plotter(np.percentile(evals_boot[:,:,i], 2.5, axis=1), 'b', alpha=0.25, marker='_');\n",
    "    plotter(np.percentile(evals_null[:,:,i], 97.5, axis=1), 'r', alpha=0.25, marker='_', label='null 95 CI');\n",
    "    plotter(np.percentile(evals_null[:,:,i], 2.5, axis=1), 'r', alpha=0.25, marker='_');\n",
    "    plotter(evals_data[:,i], marker='.', label='data')\n",
    "    ax.set_title(f\"Cov eval {i+1}\")\n",
    "    ax.legend()\n",
    "    \n",
    "for i in range(k):\n",
    "    ax = axes[i][1]\n",
    "    ax.plot(np.percentile(expvar_boot[:,:,i], 97.5, axis=1), 'b', alpha=0.25, marker='_', label='boot 95 CI');\n",
    "    ax.plot(np.percentile(expvar_boot[:,:,i], 2.5, axis=1), 'b', alpha=0.25, marker='_');\n",
    "    ax.plot(np.percentile(expvar_null[:,:,i], 97.5, axis=1), 'r', alpha=0.25, marker='_', label='null 95 CI');\n",
    "    ax.plot(np.percentile(expvar_null[:,:,i], 2.5, axis=1), 'r', alpha=0.25, marker='_');\n",
    "    ax.plot(expvar_data[:,i], marker='.', label='data')\n",
    "    ax.set_title(f\"Exp Var ratio {i+1}\")\n",
    "    ax.legend()\n",
    "\n",
    "plt.savefig(f'{imgdir}/eval_plots.png')"
   ]
  },
  {
   "cell_type": "code",
   "execution_count": null,
   "id": "71af9c3d",
   "metadata": {},
   "outputs": [],
   "source": [
    "# Location of maximum eigenvalue 1\n",
    "max_idx = np.argmax(evals_data[:,0])\n",
    "print(f\"Max Eval Index: {max_idx}\")"
   ]
  },
  {
   "cell_type": "code",
   "execution_count": null,
   "id": "cebe06fe",
   "metadata": {},
   "outputs": [],
   "source": [
    "primary_evecs = evecs_data[max_idx]\n",
    "primary_evec_1 = primary_evecs[0]"
   ]
  },
  {
   "cell_type": "code",
   "execution_count": null,
   "id": "2411e917",
   "metadata": {},
   "outputs": [],
   "source": [
    "print(np.min(primary_evec_1))\n",
    "print(np.max(primary_evec_1))"
   ]
  },
  {
   "cell_type": "code",
   "execution_count": null,
   "id": "1b9120ee",
   "metadata": {},
   "outputs": [],
   "source": [
    "def eigenvector_loading_barchart(idx_subset, evec_subset, gnames, eps=0.01, \n",
    "                                 do_table=True, verbose=False, title=None, saveas=None, cmap=None, dpi=300):\n",
    "\n",
    "    # Get indices of genes for which square of loading is greater than epsilon\n",
    "    interesting_gene_idxs = np.unique(np.where(evec_subset**2 > eps)[1])\n",
    "    interesting_gene_names = gnames[interesting_gene_idxs]\n",
    "    num_int_genes = len(interesting_gene_idxs)\n",
    "    if verbose:\n",
    "        print(f\"Interesting Genes ({num_int_genes}):\\n{interesting_gene_names}\")\n",
    "\n",
    "    # Collect data (squared loadings) for interesting genes. Recall must sum to 1.\n",
    "    data = np.zeros([num_int_genes+1, len(idx_subset)])\n",
    "    for i, idx in enumerate(idx_subset):\n",
    "        evec = evecs_data[idx, 0]\n",
    "        data[:-1,i] = evec[interesting_gene_idxs]**2\n",
    "        data[-1,i] = 1 - np.sum(data[:-1,i])  # all other loadings\n",
    "    \n",
    "    columns = idx_subset\n",
    "    rows = list(interesting_gene_names) + ['Other']\n",
    "\n",
    "    # Get colors\n",
    "    colors = plt.cm.gist_rainbow(np.linspace(0, 1, len(rows)))\n",
    "    np.random.shuffle(colors)\n",
    "    if cmap:\n",
    "        colormap = {}\n",
    "        for i, rowname in enumerate(rows):\n",
    "            if rowname in cmap:\n",
    "                colormap[rowname] = cmap[rowname]\n",
    "                colors[i] = cmap[rowname]\n",
    "            else:\n",
    "                colormap[rowname] = colors[i]\n",
    "        colormap = {**cmap, **colormap}\n",
    "    else: \n",
    "        colormap = {rows[i]: colors[i] for i in range(len(rows))}\n",
    "    \n",
    "    n_rows = len(data)\n",
    "\n",
    "    index = np.arange(0,1,1/len(columns)) + 1/len(columns)/2\n",
    "    bar_width = 0.50 * 1/len(columns)\n",
    "\n",
    "    # Initialize the vertical-offset for the stacked bar chart.\n",
    "    y_offset = np.zeros(len(columns))\n",
    "\n",
    "    fig, ax = plt.subplots(1, 1, figsize=(24,18), dpi=dpi)\n",
    "\n",
    "    # Plot bars and create text labels for the table\n",
    "    cell_text = []\n",
    "    cell_colors = []\n",
    "    for row in range(n_rows):\n",
    "        ax.bar(index, data[row], bar_width, bottom=y_offset, color=colors[row])\n",
    "        y_offset = y_offset + data[row]\n",
    "        if do_table:\n",
    "            cell_text.append([f'{x:.2g}' for x in data[row]])\n",
    "            cell_colors.append([val2cellcolor(x) for x in data[row]])\n",
    "    \n",
    "    # Reverse colors and text labels to display the last value at the top.\n",
    "    colors = colors[::-1]\n",
    "    if do_table:\n",
    "        cell_text.reverse()\n",
    "        cell_colors.reverse()\n",
    "        rows.reverse()\n",
    "\n",
    "    # Add a table at the bottom of the axes\n",
    "    if do_table:\n",
    "        the_table = ax.table(cellText=cell_text,\n",
    "                             rowLabels=rows,\n",
    "                             rowColours=[[*r[0:-1], 0.75] for r in colors],\n",
    "                             colLabels=columns,\n",
    "                             loc='bottom', \n",
    "                             cellColours=cell_colors\n",
    "                            )\n",
    "    ax.set_xlim([0,1])\n",
    "    ax.set_ylabel(\"Square comp\")\n",
    "    if title:\n",
    "        ax.set_title(title)\n",
    "    \n",
    "    if do_table:\n",
    "        ax.set_xticks([])\n",
    "        the_table.scale(1, 1.5)\n",
    "        cellDict = the_table.get_celld()\n",
    "#         the_table.auto_set_font_size(False)\n",
    "#         print(cellDict[(0,0)].get_height())\n",
    "#         the_table.set_fontsize(cellDict[(0,0)].get_height())\n",
    "        \n",
    "    else:\n",
    "        ax.set_xticks(index[0::5])\n",
    "        ax.set_xticklabels(idx_subset[0::5])\n",
    "    \n",
    "    if saveas:\n",
    "        plt.savefig(saveas, bbox_inches='tight')\n",
    "\n",
    "    plt.show()\n",
    "                     \n",
    "    return data, interesting_gene_idxs, interesting_gene_names, colormap"
   ]
  },
  {
   "cell_type": "code",
   "execution_count": null,
   "id": "ac83d0f6",
   "metadata": {},
   "outputs": [],
   "source": [
    "eps = 0.01\n",
    "idx_subset = list(range(0, 121))\n",
    "evec_subset = evecs_data[idx_subset, 0, :]\n",
    "title = \"Eigenvector 1 Loadings\"\n",
    "saveas = f\"{imgdir}/evec_1_loads_all.png\"\n",
    "data, int_gidxs, int_gnames, cmap = eigenvector_loading_barchart(idx_subset, evec_subset, gnames, eps,\n",
    "                                        verbose=True, do_table=False, title=title, saveas=saveas, cmap=cmap)"
   ]
  },
  {
   "cell_type": "code",
   "execution_count": null,
   "id": "e4c3b4d9",
   "metadata": {},
   "outputs": [],
   "source": [
    "idx_subset = list(range(0, 121))\n",
    "evec_subset = evecs_data[idx_subset, 1, :]\n",
    "title = \"Eigenvector 2 Loadings\"\n",
    "saveas = f\"{imgdir}/evec_2_loads_all.png\"\n",
    "data, int_gidxs, int_gnames, cmap = eigenvector_loading_barchart(idx_subset, evec_subset, gnames, eps,\n",
    "                                        verbose=True, do_table=False, title=title, saveas=saveas, cmap=cmap)"
   ]
  },
  {
   "cell_type": "code",
   "execution_count": null,
   "id": "51e0aea8",
   "metadata": {},
   "outputs": [],
   "source": [
    "idx_subset = list(range(45, 66))\n",
    "evec_subset = evecs_data[idx_subset, 0, :]\n",
    "title = \"Eigenvector 1 Loadings\"\n",
    "saveas = f\"{imgdir}/evec_1_loads_45_66.png\"\n",
    "data, int_gidxs, int_gnames, cmap = eigenvector_loading_barchart(idx_subset, evec_subset, gnames, eps,\n",
    "                                        verbose=True, do_table=True, title=title, saveas=saveas, cmap=cmap)"
   ]
  },
  {
   "cell_type": "code",
   "execution_count": null,
   "id": "3a2b87f4",
   "metadata": {},
   "outputs": [],
   "source": [
    "idx_subset = list(range(65, 86))\n",
    "evec_subset = evecs_data[idx_subset, 0, :]\n",
    "title = \"Eigenvector 1 Loadings\"\n",
    "saveas = f\"{imgdir}/evec_1_loads_65_86.png\"\n",
    "data, int_gidxs, int_gnames, cmap = eigenvector_loading_barchart(idx_subset, evec_subset, gnames, eps,\n",
    "                                        verbose=True, do_table=True, title=title, saveas=saveas, cmap=cmap)"
   ]
  },
  {
   "cell_type": "code",
   "execution_count": null,
   "id": "3927cbb8",
   "metadata": {},
   "outputs": [],
   "source": [
    "idx_subset = list(range(55, 91))\n",
    "evec_subset = evecs_data[idx_subset, 0, :]\n",
    "title = \"Eigenvector 1 Loadings\"\n",
    "saveas = f\"{imgdir}/evec_1_loads_55_91.png\"\n",
    "data, int_gidxs, int_gnames, cmap = eigenvector_loading_barchart(idx_subset, evec_subset, gnames, eps,\n",
    "                                        verbose=True, do_table=True, title=title, saveas=saveas, cmap=cmap)"
   ]
  },
  {
   "cell_type": "code",
   "execution_count": null,
   "id": "65e1b354",
   "metadata": {},
   "outputs": [],
   "source": [
    "idx_subset = list(range(100, 121))\n",
    "evec_subset = evecs_data[idx_subset, 0, :]\n",
    "title = \"Eigenvector 1 Loadings\"\n",
    "saveas = f\"{imgdir}/evec_1_loads_100_121.png\"\n",
    "data, int_gidxs, int_gnames, cmap = eigenvector_loading_barchart(idx_subset, evec_subset, gnames, eps,\n",
    "                                        verbose=True, do_table=True, title=title, saveas=saveas, cmap=cmap)"
   ]
  },
  {
   "cell_type": "code",
   "execution_count": null,
   "id": "13fc90b6",
   "metadata": {},
   "outputs": [],
   "source": []
  }
 ],
 "metadata": {
  "kernelspec": {
   "display_name": "Python 3.7.13 ('env': virtualenv)",
   "language": "python",
   "name": "python3"
  },
  "language_info": {
   "codemirror_mode": {
    "name": "ipython",
    "version": 3
   },
   "file_extension": ".py",
   "mimetype": "text/x-python",
   "name": "python",
   "nbconvert_exporter": "python",
   "pygments_lexer": "ipython3",
   "version": "3.7.13"
  },
  "vscode": {
   "interpreter": {
    "hash": "d191bfa186287f9ad0e7ba5edc9e495534b3c6f4a05db3cef6c2e5f1c76080d3"
   }
  }
 },
 "nbformat": 4,
 "nbformat_minor": 5
}
